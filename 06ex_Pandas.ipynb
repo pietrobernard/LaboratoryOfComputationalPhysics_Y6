{
 "cells": [
  {
   "cell_type": "markdown",
   "metadata": {},
   "source": [
    "## Pandas analysis\n",
    "\n",
    "This exercise consists in analyzing a dataset containg timing information from a series of Time-to-Digital-Converters (TDC) implemented in a couple of FPGAs. Each measurement (i.e. each row of the input file) consists of a flag that specifies the type of message ('HEAD', which in this case is always 1), two addresses of the TDC providing the signal ('FPGA' and 'TDC_CHANNEL'), and the timing information ('ORBIT_CNT', 'BX_COUNTER', and 'TDC_MEAS'). Each TDC count corresponds to 25/30 ns, whereas a unit of BX_COUNTER corresponds to 25 ns, and the ORBIT_CNT is increased every 'x' BX_COUNTER. This allows to store the time in a similar way to hours, minutes and seconds."
   ]
  },
  {
   "cell_type": "code",
   "execution_count": 1,
   "metadata": {},
   "outputs": [
    {
     "name": "stdout",
     "output_type": "stream",
     "text": [
      "--2023-11-23 12:34:52--  https://www.dropbox.com/s/xvjzaxzz3ysphme/data_000637.txt\n",
      "Risoluzione di www.dropbox.com (www.dropbox.com)... 2620:100:6025:18::a27d:4512, 162.125.69.18\n",
      "Connessione a www.dropbox.com (www.dropbox.com)|2620:100:6025:18::a27d:4512|:443... connesso.\n",
      "Richiesta HTTP inviata, in attesa di risposta... 302 Found\n",
      "Posizione: /s/raw/xvjzaxzz3ysphme/data_000637.txt [segue]\n",
      "--2023-11-23 12:34:52--  https://www.dropbox.com/s/raw/xvjzaxzz3ysphme/data_000637.txt\n",
      "Riutilizzo della connessione esistente a [www.dropbox.com]:443.\n",
      "Richiesta HTTP inviata, in attesa di risposta... 302 Found\n",
      "Posizione: https://uc71e8bf6571e10138faea24f275.dl.dropboxusercontent.com/cd/0/inline/CIHeejXcLNdtc42_fBQ-t7bxKaQzL9QPvbKb2O8ce4eiBqZBW1Q9HXVAW91d0-PrHffZ9lQFwkS5gQLqTWnYUlQLKxgiIS4rFlUYPVtNDv9jKStP8fwnrZmyf85aygOQg6g/file# [segue]\n",
      "--2023-11-23 12:34:52--  https://uc71e8bf6571e10138faea24f275.dl.dropboxusercontent.com/cd/0/inline/CIHeejXcLNdtc42_fBQ-t7bxKaQzL9QPvbKb2O8ce4eiBqZBW1Q9HXVAW91d0-PrHffZ9lQFwkS5gQLqTWnYUlQLKxgiIS4rFlUYPVtNDv9jKStP8fwnrZmyf85aygOQg6g/file\n",
      "Risoluzione di uc71e8bf6571e10138faea24f275.dl.dropboxusercontent.com (uc71e8bf6571e10138faea24f275.dl.dropboxusercontent.com)... 2620:100:6025:15::a27d:450f, 162.125.69.15\n",
      "Connessione a uc71e8bf6571e10138faea24f275.dl.dropboxusercontent.com (uc71e8bf6571e10138faea24f275.dl.dropboxusercontent.com)|2620:100:6025:15::a27d:450f|:443... connesso.\n",
      "Richiesta HTTP inviata, in attesa di risposta... 200 OK\n",
      "Lunghezza: 33179236 (32M) [text/plain]\n",
      "Salvataggio in: «./data_000637.txt.1»\n",
      "\n",
      "data_000637.txt.1   100%[===================>]  31,64M  17,5MB/s    in 1,8s    \n",
      "\n",
      "2023-11-23 12:34:55 (17,5 MB/s) - «./data_000637.txt.1» salvato [33179236/33179236]\n",
      "\n"
     ]
    }
   ],
   "source": [
    "# If you didn't download it yet, please get the relevant file now!\n",
    "!wget https://www.dropbox.com/s/xvjzaxzz3ysphme/data_000637.txt -P ./"
   ]
  },
  {
   "cell_type": "markdown",
   "metadata": {},
   "source": [
    "1\\. Create a Pandas DataFrame reading N rows of the 'data_000637.txt' dataset. Choose N to be smaller than or equal to the maximum number of rows and larger that 10k.\n",
    "\n",
    "2\\. Find out the number of BX in a ORBIT (the value 'x').\n",
    "\n",
    "3\\. Find out how much the data taking lasted. You can either make an estimate based on the fraction of the measurements (rows) you read, or perform this check precisely by reading out the whole dataset.\n",
    "\n",
    "4\\. Create a new column with the absolute time in ns (as a combination of the other three columns with timing information).\n",
    "\n",
    "5\\. Replace the values (all 1) of the HEAD column randomly with 0 or 1.\n",
    "\n",
    "6\\. Create a new DataFrame that contains only the rows with HEAD=1.\n",
    "\n",
    "7\\. Make two occupancy plots (one for each FPGA), i.e. plot the number of counts per TDC channel\n",
    "\n",
    "8\\. Use the groupby method to find out the noisy channels, i.e. the TDC channels with most counts (say the top 3)\n",
    "\n",
    "9\\. Count the number of unique orbits. Count the number of unique orbits with at least one measurement from TDC_CHANNEL=139"
   ]
  },
  {
   "cell_type": "code",
   "execution_count": 2,
   "metadata": {},
   "outputs": [],
   "source": [
    "import pandas as pd\n",
    "import numpy as np\n",
    "import matplotlib.pyplot as plt"
   ]
  },
  {
   "cell_type": "markdown",
   "metadata": {},
   "source": [
    "#### Exercise 1\n",
    "Create a Pandas DataFrame reading N rows of the 'data_000637.txt' dataset. Choose N to be smaller than or equal to the maximum number of rows and larger than 10k."
   ]
  },
  {
   "cell_type": "code",
   "execution_count": 3,
   "metadata": {},
   "outputs": [
    {
     "data": {
      "text/html": [
       "<div>\n",
       "<style scoped>\n",
       "    .dataframe tbody tr th:only-of-type {\n",
       "        vertical-align: middle;\n",
       "    }\n",
       "\n",
       "    .dataframe tbody tr th {\n",
       "        vertical-align: top;\n",
       "    }\n",
       "\n",
       "    .dataframe thead th {\n",
       "        text-align: right;\n",
       "    }\n",
       "</style>\n",
       "<table border=\"1\" class=\"dataframe\">\n",
       "  <thead>\n",
       "    <tr style=\"text-align: right;\">\n",
       "      <th></th>\n",
       "      <th>HEAD</th>\n",
       "      <th>FPGA</th>\n",
       "      <th>TDC_CHANNEL</th>\n",
       "      <th>ORBIT_CNT</th>\n",
       "      <th>BX_COUNTER</th>\n",
       "      <th>TDC_MEAS</th>\n",
       "    </tr>\n",
       "  </thead>\n",
       "  <tbody>\n",
       "    <tr>\n",
       "      <th>count</th>\n",
       "      <td>1310720.0</td>\n",
       "      <td>1.310720e+06</td>\n",
       "      <td>1.310720e+06</td>\n",
       "      <td>1.310720e+06</td>\n",
       "      <td>1.310720e+06</td>\n",
       "      <td>1.310720e+06</td>\n",
       "    </tr>\n",
       "    <tr>\n",
       "      <th>mean</th>\n",
       "      <td>1.0</td>\n",
       "      <td>2.959198e-01</td>\n",
       "      <td>5.582570e+01</td>\n",
       "      <td>3.869206e+09</td>\n",
       "      <td>1.781096e+03</td>\n",
       "      <td>1.332340e+01</td>\n",
       "    </tr>\n",
       "    <tr>\n",
       "      <th>std</th>\n",
       "      <td>0.0</td>\n",
       "      <td>4.564553e-01</td>\n",
       "      <td>3.901034e+01</td>\n",
       "      <td>3.183124e+03</td>\n",
       "      <td>1.027795e+03</td>\n",
       "      <td>9.199886e+00</td>\n",
       "    </tr>\n",
       "    <tr>\n",
       "      <th>min</th>\n",
       "      <td>1.0</td>\n",
       "      <td>0.000000e+00</td>\n",
       "      <td>1.000000e+00</td>\n",
       "      <td>3.869200e+09</td>\n",
       "      <td>0.000000e+00</td>\n",
       "      <td>0.000000e+00</td>\n",
       "    </tr>\n",
       "    <tr>\n",
       "      <th>25%</th>\n",
       "      <td>1.0</td>\n",
       "      <td>0.000000e+00</td>\n",
       "      <td>2.600000e+01</td>\n",
       "      <td>3.869203e+09</td>\n",
       "      <td>8.930000e+02</td>\n",
       "      <td>5.000000e+00</td>\n",
       "    </tr>\n",
       "    <tr>\n",
       "      <th>50%</th>\n",
       "      <td>1.0</td>\n",
       "      <td>0.000000e+00</td>\n",
       "      <td>5.700000e+01</td>\n",
       "      <td>3.869207e+09</td>\n",
       "      <td>1.778000e+03</td>\n",
       "      <td>1.300000e+01</td>\n",
       "    </tr>\n",
       "    <tr>\n",
       "      <th>75%</th>\n",
       "      <td>1.0</td>\n",
       "      <td>1.000000e+00</td>\n",
       "      <td>6.400000e+01</td>\n",
       "      <td>3.869209e+09</td>\n",
       "      <td>2.670000e+03</td>\n",
       "      <td>2.100000e+01</td>\n",
       "    </tr>\n",
       "    <tr>\n",
       "      <th>max</th>\n",
       "      <td>1.0</td>\n",
       "      <td>1.000000e+00</td>\n",
       "      <td>1.390000e+02</td>\n",
       "      <td>3.869211e+09</td>\n",
       "      <td>3.563000e+03</td>\n",
       "      <td>2.900000e+01</td>\n",
       "    </tr>\n",
       "  </tbody>\n",
       "</table>\n",
       "</div>"
      ],
      "text/plain": [
       "            HEAD          FPGA   TDC_CHANNEL     ORBIT_CNT    BX_COUNTER  \\\n",
       "count  1310720.0  1.310720e+06  1.310720e+06  1.310720e+06  1.310720e+06   \n",
       "mean         1.0  2.959198e-01  5.582570e+01  3.869206e+09  1.781096e+03   \n",
       "std          0.0  4.564553e-01  3.901034e+01  3.183124e+03  1.027795e+03   \n",
       "min          1.0  0.000000e+00  1.000000e+00  3.869200e+09  0.000000e+00   \n",
       "25%          1.0  0.000000e+00  2.600000e+01  3.869203e+09  8.930000e+02   \n",
       "50%          1.0  0.000000e+00  5.700000e+01  3.869207e+09  1.778000e+03   \n",
       "75%          1.0  1.000000e+00  6.400000e+01  3.869209e+09  2.670000e+03   \n",
       "max          1.0  1.000000e+00  1.390000e+02  3.869211e+09  3.563000e+03   \n",
       "\n",
       "           TDC_MEAS  \n",
       "count  1.310720e+06  \n",
       "mean   1.332340e+01  \n",
       "std    9.199886e+00  \n",
       "min    0.000000e+00  \n",
       "25%    5.000000e+00  \n",
       "50%    1.300000e+01  \n",
       "75%    2.100000e+01  \n",
       "max    2.900000e+01  "
      ]
     },
     "execution_count": 3,
     "metadata": {},
     "output_type": "execute_result"
    }
   ],
   "source": [
    "# input file is in csv format, hence:\n",
    "df = pd.read_csv('data_000637.txt')\n",
    "df.describe()"
   ]
  },
  {
   "cell_type": "markdown",
   "metadata": {},
   "source": [
    "Notes: TDC_MEAS has 30 bins, they cover a range of 25 nanoseconds. If I count 10, the time is 10*25/30 ns \n",
    "count from 0 to 29 and then goes back to 0, resets. When it resets the next counter gets updated.\n",
    "BX_COUNTER is the next unit. Need to find the value 'x' at which BX_COUNTER gets reset.\n",
    "The next after BX_COUNTER is the ORBIT_CNT.\n",
    "\n",
    "So BX_counter is multiple of 25 ns, since every 25 ns the TDC_MEAS goes to 0.\n",
    "\n",
    "the device has several channels, and the channels are marked by FPGA and TDC_CHANNEL."
   ]
  },
  {
   "cell_type": "markdown",
   "metadata": {},
   "source": [
    "#### Exercise 2\n",
    "Find out the number of BX in a ORBIT (the value 'x')."
   ]
  },
  {
   "cell_type": "code",
   "execution_count": 4,
   "metadata": {},
   "outputs": [
    {
     "data": {
      "text/plain": [
       "count    11001.000000\n",
       "mean      3280.181438\n",
       "std        458.559839\n",
       "min         15.000000\n",
       "25%       3274.000000\n",
       "50%       3441.000000\n",
       "75%       3519.000000\n",
       "max       3563.000000\n",
       "Name: BX_COUNTER, dtype: float64"
      ]
     },
     "execution_count": 4,
     "metadata": {},
     "output_type": "execute_result"
    },
    {
     "data": {
      "image/png": "[encoded data removed]",
      "text/plain": [
       "<Figure size 640x480 with 1 Axes>"
      ]
     },
     "metadata": {},
     "output_type": "display_data"
    }
   ],
   "source": [
    "things = df.groupby('ORBIT_CNT')['BX_COUNTER'].max()\n",
    "things.hist(bins=30)\n",
    "things.describe()"
   ]
  },
  {
   "cell_type": "code",
   "execution_count": 5,
   "metadata": {},
   "outputs": [
    {
     "name": "stdout",
     "output_type": "stream",
     "text": [
      "BX 'x' value is 3564\n"
     ]
    }
   ],
   "source": [
    "# the requested BX value that resets BX and makes the orbit go up by 1 will be the highest BX_COUNTER found, so:\n",
    "bx_max = things.max()+1\n",
    "print(f\"BX 'x' value is {bx_max}\")"
   ]
  },
  {
   "cell_type": "markdown",
   "metadata": {},
   "source": [
    "#### Exercise 3\n",
    "Find out how much the data taking lasted. You can either make an estimate based on the fraction of the measurements (rows) you read, or perform this check precisely by reading out the whole dataset."
   ]
  },
  {
   "cell_type": "code",
   "execution_count": 6,
   "metadata": {},
   "outputs": [
    {
     "name": "stdout",
     "output_type": "stream",
     "text": [
      "Total run time is 980416093.3125 ns (0.9804160933125 s)\n"
     ]
    }
   ],
   "source": [
    "'''\n",
    "so, the initial value is given by the number of orbits + bx + the fine measurement of the tdc. So:\n",
    "'''\n",
    "def ns_time(df, bx_max):\n",
    "    t = {'ORBIT':0,'BX':0,'TDC':0}\n",
    "    t['TDC'] = df['TDC_MEAS']*25/30.\n",
    "    t['BX'] = df['BX_COUNTER']*25.\n",
    "    t['ORBIT'] = df['ORBIT_CNT']*bx_max*25.\n",
    "    return t['TDC']+t['BX']+t['ORBIT']\n",
    "\n",
    "start_time_ns = ns_time(df.iloc[0], bx_max)\n",
    "stop_time_ns = ns_time(df.iloc[df.shape[0]-1], bx_max)\n",
    "run_time_ns = stop_time_ns - start_time_ns\n",
    "print(f\"Total run time is {run_time_ns} ns ({run_time_ns/10**9} s)\")"
   ]
  },
  {
   "cell_type": "markdown",
   "metadata": {},
   "source": [
    "#### Exercise 4\n",
    "Create a new column with the absolute time in ns (as a combination of the other three columns with timing information)."
   ]
  },
  {
   "cell_type": "code",
   "execution_count": 7,
   "metadata": {},
   "outputs": [],
   "source": [
    "df['ABS_T'] = (df['TDC_MEAS']*25/30)+(df['BX_COUNTER']*25)+(df['ORBIT_CNT']*bx_max*25)"
   ]
  },
  {
   "cell_type": "markdown",
   "metadata": {},
   "source": [
    "#### Exercise 5\n",
    "Replace the values (all 1) of the HEAD column randomly with 0 or 1."
   ]
  },
  {
   "cell_type": "code",
   "execution_count": 8,
   "metadata": {},
   "outputs": [],
   "source": [
    "df['HEAD'] = np.random.randint(2, size=df.shape[0])"
   ]
  },
  {
   "cell_type": "markdown",
   "metadata": {},
   "source": [
    "#### Exercise 6\n",
    "Create a new DataFrame that contains only the rows with HEAD=1"
   ]
  },
  {
   "cell_type": "code",
   "execution_count": 9,
   "metadata": {},
   "outputs": [],
   "source": [
    "df_head1 = df[df['HEAD']==1]"
   ]
  },
  {
   "cell_type": "markdown",
   "metadata": {},
   "source": [
    "#### Exercise 7\n",
    "Make two occupancy plots (one for each FPGA), i.e. plot the number of counts per TDC channel"
   ]
  },
  {
   "cell_type": "code",
   "execution_count": 10,
   "metadata": {},
   "outputs": [
    {
     "data": {
      "image/png": "[encoded data removed]",
      "text/plain": [
       "<Figure size 1200x600 with 2 Axes>"
      ]
     },
     "metadata": {},
     "output_type": "display_data"
    }
   ],
   "source": [
    "df_fpga0 = df[df['FPGA']==0]\n",
    "df_fpga1 = df[df['FPGA']==1]\n",
    "grouped_0 = df_fpga0.groupby('TDC_CHANNEL', dropna=False)\n",
    "grouped_1 = df_fpga1.groupby('TDC_CHANNEL', dropna=False)\n",
    "counts_0 = grouped_0.count()\n",
    "counts_1 = grouped_1.count()\n",
    "\n",
    "figure, axis = plt.subplots(1, 2)\n",
    "figure.set_figwidth(12)\n",
    "figure.set_figheight(6)\n",
    "\n",
    "axis[0].plot(counts_0.axes[0], counts_0['FPGA']) \n",
    "axis[0].set_title(\"FPGA 0\") \n",
    "axis[0].set_xlabel(\"TDC Channel\")\n",
    "axis[0].set_ylabel(\"Counts\")\n",
    "axis[1].plot(counts_1.axes[0], counts_1['FPGA'])\n",
    "axis[1].set_title(\"FPGA 1\") \n",
    "axis[1].set_xlabel(\"TDC Channel\")\n",
    "axis[1].set_ylabel(\"Counts\")\n",
    "figure.tight_layout(pad=5.0)\n",
    "\n",
    "plt.show()\n"
   ]
  },
  {
   "cell_type": "markdown",
   "metadata": {},
   "source": [
    "#### Exercise 8\n",
    "Use the groupby method to find out the noisy channels, i.e. the TDC channels with most counts (say the top 3)"
   ]
  },
  {
   "cell_type": "code",
   "execution_count": 11,
   "metadata": {},
   "outputs": [
    {
     "name": "stdout",
     "output_type": "stream",
     "text": [
      "FPGA_0\n",
      "TDC channel 139 = 75617\n",
      "TDC channel 64 = 64581\n",
      "TDC channel 63 = 63724\n",
      "\n",
      "FPGA_1\n",
      "TDC channel 2 = 32669\n",
      "TDC channel 139 = 32442\n",
      "TDC channel 1 = 28438\n"
     ]
    }
   ],
   "source": [
    "v = grouped_0['HEAD'].count()\n",
    "v = v.sort_values()\n",
    "print(\"FPGA_0\")\n",
    "for i in range(v.shape[0]-1,v.shape[0]-4,-1):\n",
    "    print(f\"TDC channel {v.axes[0][i]} = {v.iloc[i]}\")\n",
    "print()\n",
    "v1 = grouped_1['HEAD'].count()\n",
    "v1 = v1.sort_values()\n",
    "print(\"FPGA_1\")\n",
    "for i in range(v1.shape[0]-1,v1.shape[0]-4,-1):\n",
    "    print(f\"TDC channel {v1.axes[0][i]} = {v1.iloc[i]}\")"
   ]
  },
  {
   "cell_type": "markdown",
   "metadata": {},
   "source": [
    "#### Exercise 9\n",
    "Count the number of unique orbits. Count the number of unique orbits with at least one measurement from TDC_CHANNEL=139"
   ]
  },
  {
   "cell_type": "code",
   "execution_count": 12,
   "metadata": {},
   "outputs": [
    {
     "name": "stdout",
     "output_type": "stream",
     "text": [
      "Number of unique orbits: 11001\n",
      "Number of unique orbits with at least one meas from TDC_CHANNEL=139: 10976\n"
     ]
    }
   ],
   "source": [
    "n_of_unique_orbits = df.groupby('ORBIT_CNT').count().shape[0]\n",
    "print(f\"Number of unique orbits: {n_of_unique_orbits}\")\n",
    "\n",
    "n_uniq_139 = df[df['TDC_CHANNEL']==139].groupby('ORBIT_CNT').count().shape[0]\n",
    "print(f\"Number of unique orbits with at least one meas from TDC_CHANNEL=139: {n_uniq_139}\")"
   ]
  }
 ],
 "metadata": {
  "kernelspec": {
   "display_name": "Python 3 (ipykernel)",
   "language": "python",
   "name": "python3"
  },
  "language_info": {
   "codemirror_mode": {
    "name": "ipython",
    "version": 3
   },
   "file_extension": ".py",
   "mimetype": "text/x-python",
   "name": "python",
   "nbconvert_exporter": "python",
   "pygments_lexer": "ipython3",
   "version": "3.11.4"
  }
 },
 "nbformat": 4,
 "nbformat_minor": 4
}
