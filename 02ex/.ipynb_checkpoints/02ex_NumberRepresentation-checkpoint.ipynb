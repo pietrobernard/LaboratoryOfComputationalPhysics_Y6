{
 "cells": [
  {
   "cell_type": "markdown",
   "metadata": {},
   "source": [
    "1\\. Write a function that converts number representation, bin<->dec<->hex. (Clearly using the corresponding python built-in functions is not fair..)"
   ]
  },
  {
   "cell_type": "code",
   "execution_count": 16,
   "metadata": {},
   "outputs": [],
   "source": [
    "def convert(n, from_b, to_b):\n",
    "    # digits\n",
    "    the_digits = {0:'0',1:'1',2:'2',3:'3',4:'4',5:'5',6:'6',7:'7',8:'8',9:'9',10:'A',11:'B',12:'C',13:'D',14:'E',15:'F'}\n",
    "    # conversion to base 10\n",
    "    base10 = 0\n",
    "    if from_b==10:\n",
    "        base10 = n\n",
    "    else:\n",
    "        s_n = str(n)\n",
    "        digits = [int(s_n[i])*from_b**(len(s_n)-1-i) for i in range(len(s_n))]\n",
    "        base10 = sum(digits)\n",
    "    # conversion to target base\n",
    "    baseX = ''\n",
    "    while base10 > 0:\n",
    "        d = int(base10/to_b)\n",
    "        r = base10 % to_b\n",
    "        baseX += the_digits[r]\n",
    "        base10 = d\n",
    "    baseX = baseX[::-1]\n",
    "    return baseX"
   ]
  },
  {
   "cell_type": "code",
   "execution_count": 15,
   "metadata": {},
   "outputs": [
    {
     "data": {
      "text/plain": [
       "'10010001101000101'"
      ]
     },
     "execution_count": 15,
     "metadata": {},
     "output_type": "execute_result"
    }
   ],
   "source": [
    "convert(12345, 16, 2)"
   ]
  },
  {
   "cell_type": "markdown",
   "metadata": {},
   "source": [
    "2\\. Write a function that converts a 32 bit word into a single precision floating point (i.e. interprets the various bits as sign, mantissa and exponent)"
   ]
  },
  {
   "cell_type": "code",
   "execution_count": 49,
   "metadata": {},
   "outputs": [
    {
     "name": "stdout",
     "output_type": "stream",
     "text": [
      "-------------------------------\n",
      "SIGN:\t1\n",
      "EXPO:\t01111111\n",
      "MANT:\t00001100110011001100110\n",
      "-------------------------------\n",
      "-1.0499999523162842\n"
     ]
    }
   ],
   "source": [
    "def EncodeSinglePrecisionFloat(float_n):\n",
    "    sign, exponent, mantissa = 0, 0, 0\n",
    "    # sign detection\n",
    "    sign = ('0' if float_n >= 0 else '1')\n",
    "    # converting the number into a binary format\n",
    "    f_n = abs(float_n)\n",
    "    bin_int = bin(int(f_n))[::-1][:-2][::-1]\n",
    "    frac = f_n - int(f_n)\n",
    "    bin_frac = ''\n",
    "    for i in range(0,23,1):\n",
    "        n = frac * 2\n",
    "        if n >= 1:\n",
    "            bin_frac += '1'\n",
    "            n -= 1\n",
    "        else:\n",
    "            bin_frac += '0'\n",
    "        frac = n\n",
    "    bin_n = bin_int + bin_frac\n",
    "    # now to calculate exponent and mantissa\n",
    "    if len(bin_int)>1:\n",
    "        exponent = len(bin_int)-1\n",
    "        mantissa = bin_n[1:24]\n",
    "    else:\n",
    "        if bin_int=='1':\n",
    "            exponent = 0\n",
    "            mantissa = bin_n[1:24]\n",
    "        else:\n",
    "            # need to find the first '1' in the fractional part\n",
    "            for i in range(0,len(bin_frac),1):\n",
    "                if bin_frac[i]=='1':\n",
    "                    exponent = -(i+1)\n",
    "                    mantissa = bin_n[(i+1):24]\n",
    "                    break;\n",
    "    exponent += 127\n",
    "    bit_expo = bin(exponent)[::-1][:-2][::-1]\n",
    "    while len(bit_expo)<8:\n",
    "        bit_expo = '0' + bit_expo\n",
    "    encoded = sign + bit_expo + mantissa\n",
    "    return encoded\n",
    "\n",
    "def SinglePrecisionStats(n_word):\n",
    "    sign = n_word[0]\n",
    "    expo = n_word[1:9]\n",
    "    mantissa = n_word[9:32]\n",
    "    print(\"-\"*31)\n",
    "    print(\"SIGN:\\t%s\"%(sign))\n",
    "    print(\"EXPO:\\t%s\"%(expo))\n",
    "    print(\"MANT:\\t%s\"%(mantissa))\n",
    "    print(\"-\"*31)\n",
    "\n",
    "def DecodeSinglePrecisionFloat(n_word):\n",
    "    sign = (1 if n_word[0]=='0' else -1)\n",
    "    expo = int(n_word[1:9],2)-127\n",
    "    mant = n_word[9:32]\n",
    "    if expo >= 0:\n",
    "        # if the exponent is positive\n",
    "        mant = '1' + mant\n",
    "        bit_int = mant[0:(expo+1)]\n",
    "        bit_frac = mant[(expo+1):24]\n",
    "        int_part = int(bit_int,2)\n",
    "        frac_part = sum([int(bit_frac[i])*2**(-1-i) for i in range(len(bit_frac))])\n",
    "        return (sign*(int_part+frac_part))\n",
    "    else:\n",
    "        # when the exponent is negative\n",
    "        n = ''\n",
    "        for i in range(abs(expo)-1):\n",
    "            n += '0'\n",
    "        mant = n + mant\n",
    "        frac_part = sum([int(mant[i])*2**(-1-i) for i in range(len(mant))])\n",
    "        return (sign*frac_part)\n",
    "\n",
    "enc = EncodeSinglePrecisionFloat(-1.05)\n",
    "SinglePrecisionStats(enc)\n",
    "print(DecodeSinglePrecisionFloat(enc))"
   ]
  },
  {
   "cell_type": "markdown",
   "metadata": {},
   "source": [
    "3\\. Write a program to determine the underflow and overflow limits (within a factor of 2) for python on your computer. \n",
    "\n",
    "**Tips**: define two variables inizialized to 1 and halve/double them enough time to exceed the under/over-flow limits  "
   ]
  },
  {
   "cell_type": "code",
   "execution_count": 57,
   "metadata": {},
   "outputs": [
    {
     "name": "stdout",
     "output_type": "stream",
     "text": [
      "Machine can display numbers between 5e-324 and 8.98846567431158e+307\n"
     ]
    }
   ],
   "source": [
    "import math\n",
    "\n",
    "underflow = 1.0\n",
    "while underflow != 0.0:\n",
    "    n = underflow / 2\n",
    "    if n != 0.0:\n",
    "        underflow = n\n",
    "    else:\n",
    "        break;\n",
    "\n",
    "overflow = 1.0\n",
    "while True:\n",
    "    n = overflow*2\n",
    "    if not math.isinf(n):\n",
    "        overflow = n\n",
    "    else:\n",
    "        break;\n",
    "\n",
    "print(\"Machine can display numbers between\",underflow,\"and\",overflow)"
   ]
  },
  {
   "cell_type": "markdown",
   "metadata": {},
   "source": [
    "4\\. Write a program to determine the machine precision\n",
    "\n",
    "**Tips**: define a new variable by adding a smaller and smaller value (proceeding similarly to prob. 2) to an original variable and check the point where the two are the same "
   ]
  },
  {
   "cell_type": "code",
   "execution_count": 58,
   "metadata": {},
   "outputs": [
    {
     "name": "stdout",
     "output_type": "stream",
     "text": [
      "Machine precision: 2.220446049250313e-16\n"
     ]
    }
   ],
   "source": [
    "precision = 1.0\n",
    "variable = 1.0\n",
    "device_precision = 1.0\n",
    "while True:\n",
    "    var_plus = variable + precision\n",
    "    if (var_plus != variable):\n",
    "        device_precision = precision\n",
    "        precision = precision / 2\n",
    "    else:\n",
    "        break;\n",
    "print(\"Machine precision:\",device_precision)"
   ]
  },
  {
   "cell_type": "markdown",
   "metadata": {},
   "source": [
    "5\\. Write a function that takes in input three parameters $a$, $b$ and $c$ and prints out the two solutions to the quadratic equation $ax^2+bx+c=0$ using the standard formula:\n",
    "$$\n",
    "x=\\frac{-b\\pm\\sqrt{b^2-4ac}}{2a}\n",
    "$$\n",
    "\n",
    "(a) use the program to compute the solution for $a=0.001$, $b=1000$ and $c=0.001$\n",
    "\n",
    "(b) re-express the standard solution formula by multiplying top and bottom by $-b\\mp\\sqrt{b^2-4ac}$ and again find the solution for $a=0.001$, $b=1000$ and $c=0.001$. How does it compare with what previously obtained? Why?\n",
    "\n",
    "(c) write a function that compute the roots of a quadratic equation accurately in all cases"
   ]
  },
  {
   "cell_type": "code",
   "execution_count": 59,
   "metadata": {},
   "outputs": [],
   "source": [
    "import math\n",
    "def eq_solutions(a,b,c):\n",
    "    x_1 = (-1.0*b - math.sqrt(b**2 - 4*a*c))/(2*a)\n",
    "    x_2 = (-1.0*b + math.sqrt(b**2 - 4*a*c))/(2*a)\n",
    "    return (x_1,x_2)"
   ]
  },
  {
   "cell_type": "code",
   "execution_count": 61,
   "metadata": {},
   "outputs": [
    {
     "name": "stdout",
     "output_type": "stream",
     "text": [
      "(-999999.999999, -9.999894245993346e-07)\n"
     ]
    }
   ],
   "source": [
    "print(eq_solutions(0.001,1000,0.001))"
   ]
  },
  {
   "cell_type": "code",
   "execution_count": 64,
   "metadata": {},
   "outputs": [],
   "source": [
    "def eq_solutions_b(a,b,c):\n",
    "    x_1 = (2*c)/(-1.0*b-math.sqrt(b**2 - 4*a*c))\n",
    "    x_2 = (2*c)/(-1.0*b+math.sqrt(b**2 - 4*a*c))\n",
    "    return (x_1,x_2)"
   ]
  },
  {
   "cell_type": "code",
   "execution_count": 65,
   "metadata": {},
   "outputs": [
    {
     "name": "stdout",
     "output_type": "stream",
     "text": [
      "(-1.000000000001e-06, -1000010.5755125057)\n"
     ]
    }
   ],
   "source": [
    "print(eq_solutions_b(0.001,1000,0.001))"
   ]
  },
  {
   "cell_type": "markdown",
   "metadata": {},
   "source": [
    "6\\. Write a program that implements the function $f(x)=x(x−1)$\n",
    "\n",
    "(a) Calculate the derivative of the function at the point $x = 1$ using the derivative definition:\n",
    "\n",
    "$$\n",
    "\\frac{{\\rm d}f}{{\\rm d}x} = \\lim_{\\delta\\to0} \\frac{f(x+\\delta)-f(x)}{\\delta}\n",
    "$$\n",
    "\n",
    "with $\\delta = 10^{−2}$. Calculate the true value of the same derivative analytically and compare with the answer your program gives. The two will not agree perfectly. Why not?\n",
    "\n",
    "(b) Repeat the calculation for $\\delta = 10^{−4}, 10^{−6}, 10^{−8}, 10^{−10}, 10^{−12}$ and $10^{−14}$. How does the accuracy scales with $\\delta$?"
   ]
  },
  {
   "cell_type": "code",
   "execution_count": 94,
   "metadata": {},
   "outputs": [
    {
     "data": {
      "image/png": "[encoded data removed]",
      "text/plain": [
       "<Figure size 640x480 with 1 Axes>"
      ]
     },
     "metadata": {},
     "output_type": "display_data"
    }
   ],
   "source": [
    "def f(x):\n",
    "    return x*(x-1)\n",
    "\n",
    "def df(x,delta):\n",
    "    return (f(x+delta)-f(x))/delta\n",
    "\n",
    "def df_analytic(x):\n",
    "    return (2*x-1)\n",
    "\n",
    "deltas = [10**-i for i in range(2,16,2)]\n",
    "dfs = [df(1,d) for d in deltas]\n",
    "diff = [abs(dfs[i]-df_analytic(1.0)) for i in range(len(dfs))]\n",
    "\n",
    "import matplotlib.pyplot as plt\n",
    "ax = plt.gca()\n",
    "s = plt.scatter(x=deltas, y=diff)\n",
    "ax.set_xscale('log')\n",
    "plt.show()"
   ]
  },
  {
   "cell_type": "markdown",
   "metadata": {},
   "source": [
    "7\\. Consider the integral of the semicircle of radius 1:\n",
    "$$\n",
    "I=\\int_{-1}^{1} \\sqrt(1-x^2) {\\rm d}x\n",
    "$$\n",
    "which it's known to be $I=\\frac{\\pi}{2}=1.57079632679...$.\n",
    "Alternatively we can use the Riemann definition of the integral:\n",
    "$$\n",
    "I=\\lim_{N\\to\\infty} \\sum_{k=1}^{N} h y_k \n",
    "$$\n",
    "\n",
    "with $h=2/N$ the width of each of the $N$ slices the domain is divided into and where\n",
    "$y_k$ is the value of the function at the $k-$th slice.\n",
    "\n",
    "(a) Write a programe to compute the integral with $N=100$. How does the result compares to the true value?\n",
    "\n",
    "(b) How much can $N$ be increased if the computation needs to be run in less than a second? What is the gain in running it for 1 minute? \n"
   ]
  },
  {
   "cell_type": "code",
   "execution_count": 98,
   "metadata": {},
   "outputs": [
    {
     "name": "stdout",
     "output_type": "stream",
     "text": [
      "Integral with N=100 is 1.580208515889524\n"
     ]
    }
   ],
   "source": [
    "import math\n",
    "def f(x):\n",
    "    return math.sqrt(1.0-(x**2))\n",
    "\n",
    "N = 100\n",
    "def integral(N):\n",
    "    sums = [2.0/N * f(i/N) for i in range(N)]\n",
    "    I = sum(sums)\n",
    "    return I\n",
    "\n",
    "print(\"Integral with N=%d is %1.15f\"%(N,integral(N)))"
   ]
  },
  {
   "cell_type": "code",
   "execution_count": 119,
   "metadata": {},
   "outputs": [
    {
     "name": "stdout",
     "output_type": "stream",
     "text": [
      "N = 3276800, I = 1.570796631871618 | t = 0.631476879119873\n",
      "N = 209715200, I = 1.570796331563582 | t = 47.378339052200317\n"
     ]
    }
   ],
   "source": [
    "import time\n",
    "\n",
    "def runfor(tlimit):\n",
    "    N = 100\n",
    "    run_time = 0\n",
    "    while True:\n",
    "        t_start = time.time()\n",
    "        I = integral(N)\n",
    "        t_end = time.time() - t_start\n",
    "        if (t_end<tlimit):\n",
    "            run_time = t_end\n",
    "            N *= 2\n",
    "        else:\n",
    "            N /= 2\n",
    "            break;\n",
    "    return (int(N),integral(int(N)),run_time)\n",
    "\n",
    "run_1sec = runfor(1.0)\n",
    "print(\"N = %d, I = %1.15f | t = %1.15f\"%(run_1sec[0],run_1sec[1],run_1sec[2]))\n",
    "\n",
    "run_1min = runfor(60.0)\n",
    "print(\"N = %d, I = %1.15f | t = %1.15f\"%(run_1min[0],run_1min[1],run_1min[2]))"
   ]
  },
  {
   "cell_type": "code",
   "execution_count": 114,
   "metadata": {},
   "outputs": [],
   "source": [
    "diff_1sec = abs(math.pi/2 - run_1sec[1])\n",
    "diff_1min = abs(math.pi/2 - run_1min[1])"
   ]
  },
  {
   "cell_type": "code",
   "execution_count": 115,
   "metadata": {},
   "outputs": [
    {
     "name": "stdout",
     "output_type": "stream",
     "text": [
      "3.050767216628003e-07 1.5255312146855715e-07\n"
     ]
    }
   ],
   "source": [
    "print(diff_1sec, diff_1min)"
   ]
  },
  {
   "cell_type": "code",
   "execution_count": 120,
   "metadata": {},
   "outputs": [
    {
     "name": "stdout",
     "output_type": "stream",
     "text": [
      "0.1\n",
      "6.16060606060606\n",
      "12.22121212121212\n",
      "18.28181818181818\n",
      "24.342424242424244\n",
      "30.403030303030306\n",
      "36.46363636363637\n",
      "42.52424242424243\n",
      "48.58484848484849\n",
      "54.645454545454555\n"
     ]
    }
   ],
   "source": [
    "runtime = 0.1\n",
    "runstep = 60/(10-0.1)\n",
    "runs = []\n",
    "while runtime <= 60:\n",
    "    print(runtime)\n",
    "    runs.append(runfor(runtime))\n",
    "    runtime += runstep"
   ]
  },
  {
   "cell_type": "code",
   "execution_count": 129,
   "metadata": {},
   "outputs": [],
   "source": [
    "x_N = []\n",
    "x_T = []\n",
    "y_PI = []\n",
    "y_PIDIFF = []\n",
    "for i in range(0,len(runs),1):\n",
    "    if runs[i][0] not in x_N:\n",
    "        x_N.append(runs[i][0])\n",
    "        x_T.append(runs[i][2])\n",
    "        y_PI.append(runs[i][1])\n",
    "        y_PIDIFF.append(abs(math.pi/2-runs[i][1]))"
   ]
  },
  {
   "cell_type": "code",
   "execution_count": 135,
   "metadata": {},
   "outputs": [
    {
     "data": {
      "image/png": "[encoded data removed]",
      "text/plain": [
       "<Figure size 640x480 with 1 Axes>"
      ]
     },
     "metadata": {},
     "output_type": "display_data"
    }
   ],
   "source": [
    "import matplotlib.pyplot as plt\n",
    "ax = plt.gca()\n",
    "s = plt.scatter(x=x_N, y=y_PIDIFF)\n",
    "ax.set_yscale('log')\n",
    "ax.set_xlabel('N')\n",
    "ax.set_ylabel('pi/2 - I(N)')\n",
    "plt.show()"
   ]
  },
  {
   "cell_type": "code",
   "execution_count": 137,
   "metadata": {},
   "outputs": [
    {
     "data": {
      "image/png": "[encoded data removed]",
      "text/plain": [
       "<Figure size 640x480 with 1 Axes>"
      ]
     },
     "metadata": {},
     "output_type": "display_data"
    }
   ],
   "source": [
    "import matplotlib.pyplot as plt\n",
    "ax = plt.gca()\n",
    "s = plt.scatter(x=x_T, y=y_PIDIFF)\n",
    "ax.set_yscale('log')\n",
    "ax.set_xlabel('T [s]')\n",
    "ax.set_ylabel('pi/2 - I(N)')\n",
    "plt.show()"
   ]
  },
  {
   "cell_type": "code",
   "execution_count": null,
   "metadata": {},
   "outputs": [],
   "source": []
  }
 ],
 "metadata": {
  "kernelspec": {
   "display_name": "Python 3 (ipykernel)",
   "language": "python",
   "name": "python3"
  },
  "language_info": {
   "codemirror_mode": {
    "name": "ipython",
    "version": 3
   },
   "file_extension": ".py",
   "mimetype": "text/x-python",
   "name": "python",
   "nbconvert_exporter": "python",
   "pygments_lexer": "ipython3",
   "version": "3.11.4"
  }
 },
 "nbformat": 4,
 "nbformat_minor": 4
}
