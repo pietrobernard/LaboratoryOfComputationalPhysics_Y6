{
 "cells": [
  {
   "cell_type": "markdown",
   "id": "2626ddcf",
   "metadata": {},
   "source": [
    "# Exercises - 18/10/2023"
   ]
  },
  {
   "cell_type": "markdown",
   "id": "4378c18d",
   "metadata": {},
   "source": [
    "### Exercise 1\n",
    "Write the following as a list comprehension\n",
    "##### Case 1\n",
    "`\n",
    "ans = []\n",
    "for i in range(3):\n",
    "    for j in range(4):\n",
    "        ans.append((i, j))\n",
    "print (ans)\n",
    "`\n",
    "##### Case 2\n",
    "`\n",
    "ans = map(lambda x: x*x, filter(lambda x: x%2 == 0, range(5)))\n",
    "print (list(ans))\n",
    "`"
   ]
  },
  {
   "cell_type": "markdown",
   "id": "08dcfdc3",
   "metadata": {},
   "source": [
    "##### Case 1 solution:"
   ]
  },
  {
   "cell_type": "code",
   "execution_count": 5,
   "id": "beaf2df9",
   "metadata": {},
   "outputs": [],
   "source": [
    "ans = [(i,j) for i in range(3) for j in range(4)]"
   ]
  },
  {
   "cell_type": "code",
   "execution_count": 6,
   "id": "31947dd0",
   "metadata": {},
   "outputs": [
    {
     "name": "stdout",
     "output_type": "stream",
     "text": [
      "[(0, 0), (0, 1), (0, 2), (0, 3), (1, 0), (1, 1), (1, 2), (1, 3), (2, 0), (2, 1), (2, 2), (2, 3)]\n"
     ]
    }
   ],
   "source": [
    "print(ans)"
   ]
  },
  {
   "cell_type": "markdown",
   "id": "ec2ccdf2",
   "metadata": {},
   "source": [
    "##### Case 2 solution:"
   ]
  },
  {
   "cell_type": "code",
   "execution_count": 7,
   "id": "67644b98",
   "metadata": {},
   "outputs": [
    {
     "data": {
      "text/plain": [
       "[0, 4, 16]"
      ]
     },
     "execution_count": 7,
     "metadata": {},
     "output_type": "execute_result"
    }
   ],
   "source": [
    "[x*x for x in range(5) if x%2==0]"
   ]
  },
  {
   "cell_type": "markdown",
   "id": "32f6e8a0",
   "metadata": {},
   "source": [
    "### Exercise 2\n",
    "Convert the following function into a pure function with no global variables or side effects"
   ]
  },
  {
   "cell_type": "code",
   "execution_count": 8,
   "id": "cf54ddde",
   "metadata": {},
   "outputs": [
    {
     "name": "stdout",
     "output_type": "stream",
     "text": [
      "[1, 2, 3, 0, 1, 2, 3, 4]\n",
      "[1, 2, 3, 0, 1, 2, 3, 4]\n"
     ]
    }
   ],
   "source": [
    "x = 5\n",
    "def f(alist):\n",
    "    for i in range(x):\n",
    "         alist.append(i)\n",
    "    return alist\n",
    "\n",
    "alist = [1,2,3]\n",
    "ans = f(alist)\n",
    "print (ans)\n",
    "print (alist) # alist has been changed!"
   ]
  },
  {
   "cell_type": "markdown",
   "id": "034c32ef",
   "metadata": {},
   "source": [
    "##### Solution"
   ]
  },
  {
   "cell_type": "code",
   "execution_count": 10,
   "id": "0026b7a5",
   "metadata": {},
   "outputs": [
    {
     "name": "stdout",
     "output_type": "stream",
     "text": [
      "[1, 2, 3, 0, 1, 2, 3, 4]\n",
      "[1, 2, 3]\n"
     ]
    }
   ],
   "source": [
    "def f(alist, x):\n",
    "    n_list = []+alist\n",
    "    for i in range(x):\n",
    "        n_list.append(i)\n",
    "    return n_list\n",
    "\n",
    "alist = [1,2,3]\n",
    "ans = f(alist,5)\n",
    "print(ans)\n",
    "print(alist) # alist is now not changed."
   ]
  },
  {
   "cell_type": "markdown",
   "id": "f436004e",
   "metadata": {},
   "source": [
    "### Exercise 3\n",
    "Write a decorator hello that makes every wrapped function print “Hello!”"
   ]
  },
  {
   "cell_type": "code",
   "execution_count": 14,
   "id": "8714729c",
   "metadata": {},
   "outputs": [
    {
     "name": "stdout",
     "output_type": "stream",
     "text": [
      "Hello\n"
     ]
    }
   ],
   "source": [
    "def mydeco(func):\n",
    "    def wrapper(args=None):\n",
    "        print(\"Hello\")\n",
    "    return wrapper\n",
    "\n",
    "@mydeco\n",
    "def any_function():\n",
    "    return\n",
    "\n",
    "any_function()"
   ]
  },
  {
   "cell_type": "markdown",
   "id": "cc218fec",
   "metadata": {},
   "source": [
    "### Exercise 4\n",
    "Write the factorial function so that it:\n",
    "1. does and\n",
    "2. does not use recursion."
   ]
  },
  {
   "cell_type": "markdown",
   "id": "7a75d7cf",
   "metadata": {},
   "source": [
    "##### Using recursion"
   ]
  },
  {
   "cell_type": "code",
   "execution_count": 22,
   "id": "f4f46076",
   "metadata": {},
   "outputs": [
    {
     "name": "stdout",
     "output_type": "stream",
     "text": [
      "269 ns ± 7.66 ns per loop (mean ± std. dev. of 7 runs, 1000000 loops each)\n"
     ]
    }
   ],
   "source": [
    "def fact(x,n=0):\n",
    "    nt = (x-1) if n==0 else n\n",
    "    v = nt*x if (nt>0) else x\n",
    "    if nt<=1:\n",
    "        return v if v>0 else 1\n",
    "    else:\n",
    "        return fact(v,nt-1)\n",
    "\n",
    "fact(5)\n",
    "%timeit fact(5)"
   ]
  },
  {
   "cell_type": "markdown",
   "id": "e20d6020",
   "metadata": {},
   "source": [
    "##### Without recursion"
   ]
  },
  {
   "cell_type": "code",
   "execution_count": 24,
   "id": "02b8bb5d",
   "metadata": {},
   "outputs": [
    {
     "name": "stdout",
     "output_type": "stream",
     "text": [
      "222 ns ± 11.4 ns per loop (mean ± std. dev. of 7 runs, 10000000 loops each)\n"
     ]
    }
   ],
   "source": [
    "def fact_notrec(x):\n",
    "    v = 1\n",
    "    for i in range(x):\n",
    "        v *= (x-i)\n",
    "    return v\n",
    "\n",
    "fact_notrec(5)\n",
    "%timeit fact_notrec(5)"
   ]
  },
  {
   "cell_type": "markdown",
   "id": "5c7ee0fa",
   "metadata": {},
   "source": [
    "### Exercise 5\n",
    "Use HOFs (zip in particular) to compute the weight of a circle, a disk and a sphere, assuming different radii and different densities:"
   ]
  },
  {
   "cell_type": "code",
   "execution_count": 25,
   "id": "ccaec248",
   "metadata": {},
   "outputs": [],
   "source": [
    "densities = {\"Al\":[0.5,1,2],\"Fe\":[3,4,5],\"Pb\": [15,20,30]}\n",
    "radii = [1,2,3]"
   ]
  },
  {
   "cell_type": "markdown",
   "id": "cdee8d0c",
   "metadata": {},
   "source": [
    "where the entries of the dictionary's values are the linear, superficial and volumetric densities of the materials respectively.\n",
    "\n",
    "In particular define a list of three lambda functions using a comprehension that computes the circumference, the area and the volume for a given radius."
   ]
  },
  {
   "cell_type": "code",
   "execution_count": 73,
   "id": "61922b64",
   "metadata": {},
   "outputs": [
    {
     "name": "stdout",
     "output_type": "stream",
     "text": [
      "MAT\t C_W\t\tA_W\t\tV_W\n",
      "-------------------------------------------\n",
      "Al    3.1416 \t     3.1416 \t     8.3776\n",
      "Al    6.2832 \t    12.5664 \t    67.0206\n",
      "Al    9.4248 \t    28.2743 \t   226.1947\n",
      "Fe   18.8496 \t    12.5664 \t    20.9440\n",
      "Fe   37.6991 \t    50.2655 \t   167.5516\n",
      "Fe   56.5487 \t   113.0973 \t   565.4867\n",
      "Pb   94.2478 \t    62.8319 \t   125.6637\n",
      "Pb  188.4956 \t   251.3274 \t  1005.3096\n",
      "Pb  282.7433 \t   565.4867 \t  3392.9201\n",
      "-------------------------------------------\n"
     ]
    }
   ],
   "source": [
    "import math\n",
    "\n",
    "# physical parameters\n",
    "radii = [1,2,3]\n",
    "densities = {\"Al\":[0.5,1,2],\"Fe\":[3,4,5],\"Pb\":[15,20,30]}\n",
    "\n",
    "# lambda functions to calculate the circumference, area and volume\n",
    "f_c = lambda x: 2*math.pi*x\n",
    "f_a = lambda x: math.pi*x*x\n",
    "f_v = lambda x: 4/3*math.pi*x*x*x\n",
    "\n",
    "# computing the physical dimensions\n",
    "cav = [(f_c(x), f_a(x), f_v(x)) for x in radii]\n",
    "\n",
    "# computing the weights for the circumferences of various densities and radiuses\n",
    "w_c = [p[0]*densities[j][0] for j in densities for p in cav]\n",
    "\n",
    "# computing the weights for the circles of various densities and radiuses\n",
    "w_a = [p[1]*densities[j][1] for j in densities for p in cav]\n",
    "\n",
    "# computing the weights for the spheres of various densities and radiuses\n",
    "w_v = [p[2]*densities[j][2] for j in densities for p in cav]\n",
    "\n",
    "# labels\n",
    "labels = [j for j in densities for p in cav]\n",
    "\n",
    "# zipping all together\n",
    "w_cav = zip(labels,w_c, w_a, w_v)\n",
    "\n",
    "# printing out\n",
    "print(\"MAT\\t C_W\\t\\tA_W\\t\\tV_W\")\n",
    "print(\"-\"*43)\n",
    "for ntuple in list(w_cav):\n",
    "    print(ntuple[0]+\"%10.4f \\t %10.4f \\t %10.4f\"%(ntuple[1],ntuple[2],ntuple[3]))\n",
    "print(\"-\"*43)\n"
   ]
  },
  {
   "cell_type": "markdown",
   "id": "a9b91baf",
   "metadata": {},
   "source": [
    "##### Note\n",
    "The weights are organized in a list of 3-tuples: for each material, we have three 3-tuples. Each 3-tuple contains the weights for each of the three radii. So, the first 3-tuple contains the 3 weights for r=1, the second for r=2 and the third for r=3. Then the next three 3-tuples contains the same for the next material and so on."
   ]
  },
  {
   "cell_type": "markdown",
   "id": "1b23427a",
   "metadata": {},
   "source": [
    "### Exercise 6\n",
    "Edit the class defintion to add an instance attribute of is_hungry = True to the Dog class. Then add a method called eat() which changes the value of is_hungry to False when called. Figure out the best way to feed each dog and then output “My dogs are hungry.” if all are hungry or “My dogs are not hungry.” if all are not hungry. The final output should look like this:\n",
    "\n",
    "`\n",
    "I have 3 dogs.\n",
    "Tom is 6.\n",
    "Fletcher is 7.\n",
    "Larry is 9.\n",
    "And they're all mammals, of course.\n",
    "My dogs are not hungry.\n",
    "`"
   ]
  },
  {
   "cell_type": "code",
   "execution_count": 74,
   "id": "3c989b4c",
   "metadata": {},
   "outputs": [],
   "source": [
    "# Parent class\n",
    "class Dog(object):\n",
    "\n",
    "    # Class attribute\n",
    "    species = 'mammal'\n",
    "    \n",
    "    # Initializer / Instance attributes\n",
    "    def __init__(self, name, age):\n",
    "        self.name = name\n",
    "        self.age = age\n",
    "        self.is_hungry = True\n",
    "    \n",
    "    # instance method\n",
    "    def eat(self):\n",
    "        self.is_hungry = False\n",
    "\n",
    "    # instance method\n",
    "    def description(self):\n",
    "        return \"{} is {} years old\".format(self.name, self.age)\n",
    "\n",
    "    # instance method\n",
    "    def speak(self, sound):\n",
    "        return \"{} says {}\".format(self.name, sound)\n",
    "    \n",
    "    # method that is accessed as unbound method\n",
    "    def checkHungry(self):\n",
    "        return self.is_hungry\n",
    "\n",
    "# Child class (inherits from Dog class)\n",
    "class RussellTerrier(Dog):\n",
    "    def __init__(self, name, age):\n",
    "        super().__init__(name, age)\n",
    "    \n",
    "    def run(self, speed):\n",
    "        return \"{} runs {}\".format(self.name, speed)\n",
    "\n",
    "# Child class (inherits from Dog class)\n",
    "class Bulldog(Dog):\n",
    "    def __init__(self, name, age):\n",
    "        super().__init__(name, age)\n",
    "    \n",
    "    def run(self, speed):\n",
    "        return \"{} runs {}\".format(self.name, speed)"
   ]
  },
  {
   "cell_type": "code",
   "execution_count": 90,
   "id": "1f124b6b",
   "metadata": {},
   "outputs": [],
   "source": [
    "dog_names = (\"Tom\",\"Fletcher\",\"Larry\")\n",
    "dog_ages = (6,7,9)"
   ]
  },
  {
   "cell_type": "code",
   "execution_count": 97,
   "id": "c45966f0",
   "metadata": {},
   "outputs": [],
   "source": [
    "my_dogs = list(zip(dog_names,dog_ages))\n",
    "my_dogs_inst = [Dog(dname,dage) for (dname,dage) in list(my_dogs)]\n",
    "hungry = sum([1 if my_dogs_inst[i].is_hungry else 0 for i in range(3)])"
   ]
  },
  {
   "cell_type": "code",
   "execution_count": 98,
   "id": "dd23782d",
   "metadata": {},
   "outputs": [
    {
     "name": "stdout",
     "output_type": "stream",
     "text": [
      "I have 3 dogs\n",
      "Tom is 6.\n",
      "Fletcher is 7.\n",
      "Larry is 9.\n",
      "And they're all mammal, of course.\n",
      "My dogs are hungry.\n"
     ]
    }
   ],
   "source": [
    "print(\"I have %d dogs\"%(len(my_dogs_inst)))\n",
    "for i in range(3):\n",
    "    print(\"{} is {}.\".format(my_dogs_inst[i].name,my_dogs_inst[i].age))\n",
    "print(\"And they're all {}, of course.\".format(Dog.species))\n",
    "if hungry==3:\n",
    "    print(\"My dogs are hungry.\")\n",
    "elif hungry==0:\n",
    "    print(\"My dogs are not hungry.\")"
   ]
  },
  {
   "cell_type": "code",
   "execution_count": null,
   "id": "3834b0cb",
   "metadata": {},
   "outputs": [],
   "source": []
  }
 ],
 "metadata": {
  "kernelspec": {
   "display_name": "Python 3 (ipykernel)",
   "language": "python",
   "name": "python3"
  },
  "language_info": {
   "codemirror_mode": {
    "name": "ipython",
    "version": 3
   },
   "file_extension": ".py",
   "mimetype": "text/x-python",
   "name": "python",
   "nbconvert_exporter": "python",
   "pygments_lexer": "ipython3",
   "version": "3.9.13"
  }
 },
 "nbformat": 4,
 "nbformat_minor": 5
}
