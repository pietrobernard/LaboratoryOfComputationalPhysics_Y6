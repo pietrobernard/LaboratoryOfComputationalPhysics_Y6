{
 "cells": [
  {
   "cell_type": "markdown",
   "id": "9d811cad-d70f-4e56-a8da-8361ad1ec080",
   "metadata": {},
   "source": [
    "# Exercises - 12/10/2023"
   ]
  },
  {
   "cell_type": "markdown",
   "id": "86072a28-3e66-4a3f-a82f-9d9d3899a167",
   "metadata": {},
   "source": [
    "## 1) The MickeyMouse problem\n",
    "- Write a program that prints the numbers from 1 to 100. But for multiples of 3 print Mickey instead of the corresponding number\n",
    "and for the multiples of 5 print Mouse. For numbers which are multiples of both three and five print MickeyMouse\n",
    "- Put the result in a tuple and substitute Mickey with Donald and Mouse with Duck"
   ]
  },
  {
   "cell_type": "markdown",
   "id": "69e83c9b-6c88-497e-bb50-22b835c9aa17",
   "metadata": {},
   "source": [
    "#### check function\n",
    "this function checks whether the number is multiple of 3 or 5 or both."
   ]
  },
  {
   "cell_type": "code",
   "execution_count": 1,
   "id": "2d41a2e0-2133-4a9e-bc96-d444b6d188a6",
   "metadata": {},
   "outputs": [],
   "source": [
    "def check(n):\n",
    "    t = [(n%3==0),(n%5==0)]\n",
    "    if (t[0]==0 and t[1]==0):\n",
    "        return n\n",
    "    elif (t[0]==1 and t[1]==0):\n",
    "        return 'Mouse'\n",
    "    elif (t[0]==0 and t[1]==1):\n",
    "        return 'Mickey'\n",
    "    else:\n",
    "        return 'MickeyMouse'"
   ]
  },
  {
   "cell_type": "markdown",
   "id": "c663b7fc-a8e6-4bba-8de5-bf5bd4328845",
   "metadata": {},
   "source": [
    "#### transform function\n",
    "this function replaces Mickey with Donald and Mouse with Duck."
   ]
  },
  {
   "cell_type": "code",
   "execution_count": 2,
   "id": "0454d097-45a6-40c4-a280-10e40e617d09",
   "metadata": {},
   "outputs": [],
   "source": [
    "def transform(i):\n",
    "    try:\n",
    "        n = i.replace('Mickey','Donald')\n",
    "        return n.replace('Mouse','Duck')\n",
    "    except:\n",
    "        return i"
   ]
  },
  {
   "cell_type": "markdown",
   "id": "93fec83c-a78e-4221-bb10-3089256b6624",
   "metadata": {},
   "source": [
    "#### main code"
   ]
  },
  {
   "cell_type": "code",
   "execution_count": 3,
   "id": "1cd8ee7f-1451-4acf-a450-e5b04bf7e6ae",
   "metadata": {},
   "outputs": [
    {
     "name": "stdout",
     "output_type": "stream",
     "text": [
      "(1, 2, 'Duck', 4, 'Donald', 'Duck', 7, 8, 'Duck', 'Donald', 11, 'Duck', 13, 14, 'DonaldDuck', 16, 17, 'Duck', 19, 'Donald', 'Duck', 22, 23, 'Duck', 'Donald', 26, 'Duck', 28, 29, 'DonaldDuck', 31, 32, 'Duck', 34, 'Donald', 'Duck', 37, 38, 'Duck', 'Donald', 41, 'Duck', 43, 44, 'DonaldDuck', 46, 47, 'Duck', 49, 'Donald', 'Duck', 52, 53, 'Duck', 'Donald', 56, 'Duck', 58, 59, 'DonaldDuck', 61, 62, 'Duck', 64, 'Donald', 'Duck', 67, 68, 'Duck', 'Donald', 71, 'Duck', 73, 74, 'DonaldDuck', 76, 77, 'Duck', 79, 'Donald', 'Duck', 82, 83, 'Duck', 'Donald', 86, 'Duck', 88, 89, 'DonaldDuck', 91, 92, 'Duck', 94, 'Donald', 'Duck', 97, 98, 'Duck', 'Donald')\n"
     ]
    }
   ],
   "source": [
    "number_list = [check(i) for i in range(1,101,1)]\n",
    "final_tuple = tuple([transform(i) for i in number_list])\n",
    "print(final_tuple)"
   ]
  },
  {
   "cell_type": "markdown",
   "id": "a5158130-f135-4196-b5c1-24e9756cec83",
   "metadata": {},
   "source": [
    "## 2) The Swap Function\n",
    "Write a function that swaps the values of two input variables x and y (whatever the type). Try to do that also without a temporary variable."
   ]
  },
  {
   "cell_type": "markdown",
   "id": "4162a63f-c195-46c1-8ae6-2ed58e08675f",
   "metadata": {},
   "source": [
    "#### defining two variables a and b"
   ]
  },
  {
   "cell_type": "code",
   "execution_count": 4,
   "id": "c56220b0-8b55-4730-8d6c-a66d9fd7e127",
   "metadata": {},
   "outputs": [],
   "source": [
    "a = 1\n",
    "b = 2.3"
   ]
  },
  {
   "cell_type": "markdown",
   "id": "2233b166-abe5-49ee-9a0d-56049684c606",
   "metadata": {},
   "source": [
    "#### defining the swap function"
   ]
  },
  {
   "cell_type": "code",
   "execution_count": 5,
   "id": "f993eccd-1b82-4aa7-ab16-b9f5e613ffce",
   "metadata": {},
   "outputs": [],
   "source": [
    "def swapfun(x, y):\n",
    "    global a, b\n",
    "    a = y\n",
    "    b = x"
   ]
  },
  {
   "cell_type": "markdown",
   "id": "098aa73a-f617-4110-8ad4-030e930c90ce",
   "metadata": {},
   "source": [
    "#### main code"
   ]
  },
  {
   "cell_type": "code",
   "execution_count": 6,
   "id": "e2452275-991a-4a35-9cba-d2116d127231",
   "metadata": {},
   "outputs": [
    {
     "name": "stdout",
     "output_type": "stream",
     "text": [
      "before: 1 2.3\n",
      "after: 2.3 1\n"
     ]
    }
   ],
   "source": [
    "print(\"before:\",a,b)\n",
    "swapfun(a, b)\n",
    "print(\"after:\",a,b)"
   ]
  },
  {
   "cell_type": "markdown",
   "id": "24b5d863-72f6-480f-9b02-10c12397cba0",
   "metadata": {},
   "source": [
    "## 3) Computing the Distance\n",
    "Write a function that calculates and returns the euclidean distance between two points u and v, where u and v are both 2-tuples (x,y)."
   ]
  },
  {
   "cell_type": "code",
   "execution_count": 7,
   "id": "1b6d1790-86ea-4051-8337-2723ca7d72ca",
   "metadata": {},
   "outputs": [],
   "source": [
    "def EuclideanDistance(u, v):\n",
    "    try:\n",
    "        d = ((u[0]-v[0])**2 + (u[1]-v[1])**2)**0.5\n",
    "        return d\n",
    "    except:\n",
    "        print(\"TypeError: u and v must be both 2-tuples (x,y).\")\n",
    "        return 1"
   ]
  },
  {
   "cell_type": "markdown",
   "id": "9c864ce4-10ec-4f79-8007-7e099e7add1e",
   "metadata": {},
   "source": [
    "#### main code"
   ]
  },
  {
   "cell_type": "code",
   "execution_count": 8,
   "id": "5401d390-d9f0-48f4-bf19-4c1c27a8bb9b",
   "metadata": {},
   "outputs": [
    {
     "name": "stdout",
     "output_type": "stream",
     "text": [
      "5.0\n"
     ]
    }
   ],
   "source": [
    "print(EuclideanDistance((3,0),(0,4)))"
   ]
  },
  {
   "cell_type": "markdown",
   "id": "d19f68c5-343a-4ede-8052-ad9e333d7873",
   "metadata": {},
   "source": [
    "## 4) Counting letters\n",
    "Write a program to calculate the number of times each character occurs in a given string s. Ignore differneces in capitalization."
   ]
  },
  {
   "cell_type": "code",
   "execution_count": 9,
   "id": "5908f03a-3316-47d8-9de2-8edbd1530e42",
   "metadata": {},
   "outputs": [],
   "source": [
    "def CharCount(in_str):\n",
    "    freqs = {}\n",
    "    for char in in_str:\n",
    "        lchar = char.lower()\n",
    "        if lchar not in freqs:\n",
    "            freqs[lchar] = 0\n",
    "        freqs[lchar] += 1\n",
    "    return freqs"
   ]
  },
  {
   "cell_type": "markdown",
   "id": "ea156a42-69c3-495c-bd98-4ad25ae6e546",
   "metadata": {},
   "source": [
    "#### main code\n",
    "the char counting is done by means of a dictionary."
   ]
  },
  {
   "cell_type": "code",
   "execution_count": 10,
   "id": "1994cb22-e6aa-4a47-9d50-8cc54028ad7b",
   "metadata": {},
   "outputs": [],
   "source": [
    "char_counts = CharCount(\"Lorem ipsum dolor sit amet\")"
   ]
  },
  {
   "cell_type": "code",
   "execution_count": 11,
   "id": "75e6796d-97c7-4e60-92dc-3d372f5afed0",
   "metadata": {},
   "outputs": [
    {
     "name": "stdout",
     "output_type": "stream",
     "text": [
      "CHAR\tFREQ\n",
      "l \t 2\n",
      "o \t 3\n",
      "r \t 2\n",
      "e \t 2\n",
      "m \t 3\n",
      "  \t 4\n",
      "i \t 2\n",
      "p \t 1\n",
      "s \t 2\n",
      "u \t 1\n",
      "d \t 1\n",
      "t \t 2\n",
      "a \t 1\n"
     ]
    }
   ],
   "source": [
    "print(\"CHAR\\tFREQ\")\n",
    "for char_code in char_counts:\n",
    "    print(char_code,\"\\t\",char_counts[char_code])"
   ]
  },
  {
   "cell_type": "markdown",
   "id": "270f676b-6f01-4dea-becc-99fb79290510",
   "metadata": {},
   "source": [
    "## 5) Isolating the unique\n",
    "Write a function that determines and count the unique numbers in the list l"
   ]
  },
  {
   "cell_type": "markdown",
   "id": "ce5c17af-9e49-4ab4-8333-5800997a5b68",
   "metadata": {},
   "source": [
    "List l is:"
   ]
  },
  {
   "cell_type": "code",
   "execution_count": 12,
   "id": "8968901d-413b-4d04-b209-248527d571d9",
   "metadata": {},
   "outputs": [
    {
     "name": "stdout",
     "output_type": "stream",
     "text": [
      "Number of elements in the list is 80\n"
     ]
    }
   ],
   "source": [
    "l = [36, 45, 58, 3, 74, 96, 64, 45, 31, 10, 24, 19, 33, 86, 99, 18, 63, 70, 85,\n",
    " 85, 63, 47, 56, 42, 70, 84, 88, 55, 20, 54, 8, 56, 51, 79, 81, 57, 37, 91,\n",
    " 1, 84, 84, 36, 66, 9, 89, 50, 42, 91, 50, 95, 90, 98, 39, 16, 82, 31, 92, 41,\n",
    " 45, 30, 66, 70, 34, 85, 94, 5, 3, 36, 72, 91, 84, 34, 87, 75, 53, 51, 20, 89, 51, 20]\n",
    "print(\"Number of elements in the list is %2d\"%(len(l)))"
   ]
  },
  {
   "cell_type": "markdown",
   "id": "cd0590fd-d301-4b38-ad97-32ea754b74dd",
   "metadata": {},
   "source": [
    "Function that calculates the unique numbers:"
   ]
  },
  {
   "cell_type": "code",
   "execution_count": 13,
   "id": "0b64c9ae-dba1-4676-8c65-f139ade817ba",
   "metadata": {},
   "outputs": [],
   "source": [
    "def UniqueNumbers(in_l):\n",
    "    n_freq = {}\n",
    "    uniques = in_l\n",
    "    for i in in_l:\n",
    "        if i not in n_freq:\n",
    "            n_freq[i] = 0\n",
    "        else:\n",
    "            uniques.remove(i)\n",
    "            n_freq[i] += 1\n",
    "    return [uniques,len(uniques)]"
   ]
  },
  {
   "cell_type": "markdown",
   "id": "4eadf834-646d-4d88-ad91-ede618be0dce",
   "metadata": {},
   "source": [
    "#### main code"
   ]
  },
  {
   "cell_type": "code",
   "execution_count": 14,
   "id": "ca7886d8-4d00-4bdc-b052-c0e6ee18606b",
   "metadata": {},
   "outputs": [
    {
     "name": "stdout",
     "output_type": "stream",
     "text": [
      "36\n",
      "58\n",
      "74\n",
      "96\n",
      "64\n",
      "31\n",
      "10\n",
      "24\n",
      "19\n",
      "33\n",
      "86\n",
      "99\n",
      "18\n",
      "63\n",
      "63\n",
      "47\n",
      "70\n",
      "88\n",
      "55\n",
      "54\n",
      "8\n",
      "56\n",
      "79\n",
      "81\n",
      "57\n",
      "37\n",
      "1\n",
      "84\n",
      "84\n",
      "36\n",
      "9\n",
      "89\n",
      "42\n",
      "91\n",
      "50\n",
      "95\n",
      "90\n",
      "98\n",
      "39\n",
      "16\n",
      "82\n",
      "31\n",
      "92\n",
      "41\n",
      "45\n",
      "30\n",
      "66\n",
      "70\n",
      "85\n",
      "94\n",
      "5\n",
      "3\n",
      "36\n",
      "72\n",
      "91\n",
      "84\n",
      "34\n",
      "87\n",
      "75\n",
      "53\n",
      "51\n",
      "20\n",
      "89\n",
      "51\n",
      "20\n",
      "There are   65 unique numbers in the list.\n"
     ]
    }
   ],
   "source": [
    "list_of_uniques, n_of_uniques = UniqueNumbers(l)\n",
    "for i in list_of_uniques:\n",
    "    print(i)\n",
    "print(\"There are %4d unique numbers in the list.\"%(n_of_uniques))"
   ]
  },
  {
   "cell_type": "markdown",
   "id": "85b3337c-2df4-4380-b293-42ef9510e8a4",
   "metadata": {},
   "source": [
    "## 6) Combination of functions\n",
    "Write two functions - one that returns the square of a number, and one that returns the cube.\n",
    "Now write a third function that returns the number raised to the 6th power using the two previous functions."
   ]
  },
  {
   "cell_type": "markdown",
   "id": "c5e8e5f1-e389-43d5-8a1b-e88cbd981104",
   "metadata": {},
   "source": [
    "#### First mode uses lambda functions"
   ]
  },
  {
   "cell_type": "code",
   "execution_count": 15,
   "id": "4db3602f-c4c0-45b8-900c-faa96612aed0",
   "metadata": {},
   "outputs": [],
   "source": [
    "f = lambda x, n : x**n\n",
    "g = lambda x : f(f(x, 2),3)"
   ]
  },
  {
   "cell_type": "markdown",
   "id": "9bdf9730-a8bd-4aa1-99fa-209335b38093",
   "metadata": {},
   "source": [
    "#### main code "
   ]
  },
  {
   "cell_type": "code",
   "execution_count": 16,
   "id": "c9536152-bf1d-43ed-b4a2-d3706c0ba49b",
   "metadata": {},
   "outputs": [
    {
     "data": {
      "text/plain": [
       "64"
      ]
     },
     "execution_count": 16,
     "metadata": {},
     "output_type": "execute_result"
    }
   ],
   "source": [
    "g(2)"
   ]
  },
  {
   "cell_type": "markdown",
   "id": "3794beeb-7381-4ac0-8165-e062433b61f2",
   "metadata": {},
   "source": [
    "#### Second mode uses conventional functions"
   ]
  },
  {
   "cell_type": "code",
   "execution_count": 17,
   "id": "9f29bc0a-a96a-4b2e-ae34-5d130f24befe",
   "metadata": {},
   "outputs": [],
   "source": [
    "def f0(n):\n",
    "    return n**2\n",
    "def f1(n):\n",
    "    return n**3\n",
    "def g0(n):\n",
    "    return f1(f0(n))"
   ]
  },
  {
   "cell_type": "markdown",
   "id": "87179c16-f3ed-41e1-b8d2-6dba7bbdc158",
   "metadata": {},
   "source": [
    "#### main code"
   ]
  },
  {
   "cell_type": "code",
   "execution_count": 18,
   "id": "a4531f0c-9950-442e-83d9-04341ab41052",
   "metadata": {},
   "outputs": [
    {
     "data": {
      "text/plain": [
       "64"
      ]
     },
     "execution_count": 18,
     "metadata": {},
     "output_type": "execute_result"
    }
   ],
   "source": [
    "g0(2)"
   ]
  },
  {
   "cell_type": "markdown",
   "id": "71549dfb-2af4-411c-943d-5c464da74b41",
   "metadata": {},
   "source": [
    "## 7) Cubes\n",
    "Create a list of the cubes of x for x in [0, 10] using:\n",
    "- a for loop\n",
    "- a list comprehension"
   ]
  },
  {
   "cell_type": "markdown",
   "id": "cda03b11-e08d-4759-ad1a-70dc21a63fa5",
   "metadata": {},
   "source": [
    "For loop:"
   ]
  },
  {
   "cell_type": "code",
   "execution_count": 19,
   "id": "fd17b8df-d945-48c7-af0d-10beda64689c",
   "metadata": {},
   "outputs": [],
   "source": [
    "list_of_cubes_0 = []\n",
    "for x in range(0,10):\n",
    "    list_of_cubes_0.append(x**3)"
   ]
  },
  {
   "cell_type": "markdown",
   "id": "398f06f0-dcdd-4fb5-a970-086f3fb05539",
   "metadata": {},
   "source": [
    "List comprehension:"
   ]
  },
  {
   "cell_type": "code",
   "execution_count": 20,
   "id": "108bcb28-7def-4bed-a9ca-f25fa3d7b681",
   "metadata": {},
   "outputs": [],
   "source": [
    "list_of_cubes_1 = [x**3 for x in range(0,10)]"
   ]
  },
  {
   "cell_type": "code",
   "execution_count": 21,
   "id": "f4a90836-24a4-402f-90d1-6ad280047370",
   "metadata": {},
   "outputs": [
    {
     "name": "stdout",
     "output_type": "stream",
     "text": [
      "[0, 1, 8, 27, 64, 125, 216, 343, 512, 729]\n",
      "[0, 1, 8, 27, 64, 125, 216, 343, 512, 729]\n"
     ]
    }
   ],
   "source": [
    "print(list_of_cubes_0)\n",
    "print(list_of_cubes_1)"
   ]
  },
  {
   "cell_type": "markdown",
   "id": "a11c33f8-6908-4817-878a-021529d658f4",
   "metadata": {},
   "source": [
    "## 8) Nested list comprehension\n",
    "A Pythagorean triple is an integer solution to the Pythagorean theorem.\n",
    "The first Pythagorean triple is (3,4,5). Find and put in a tuple all unique Pythagorean triples for the positive integers a, b and c less than 100."
   ]
  },
  {
   "cell_type": "markdown",
   "id": "3e209270-8336-4f40-9c79-7e96e0afcf46",
   "metadata": {},
   "source": [
    "#### main code\n",
    "Firstly all of the triples are calculated by cycling through all the possible valid combinations"
   ]
  },
  {
   "cell_type": "code",
   "execution_count": 22,
   "id": "6af6abbe-ab82-42f4-86ee-9f697628814f",
   "metadata": {},
   "outputs": [],
   "source": [
    "triples = [(x,y,z) for x in range(1,100) for y in range(1,100) for z in range(1,100) if (x**2+y**2==z**2)]"
   ]
  },
  {
   "cell_type": "markdown",
   "id": "19b7d3cf-6709-4c3d-8cb7-fd1255b2c268",
   "metadata": {},
   "source": [
    "Printing the triples:"
   ]
  },
  {
   "cell_type": "code",
   "execution_count": 23,
   "id": "d29720e0-70f2-4d02-addb-158c7937acf2",
   "metadata": {},
   "outputs": [
    {
     "name": "stdout",
     "output_type": "stream",
     "text": [
      "[(3, 4, 5), (4, 3, 5), (5, 12, 13), (6, 8, 10), (7, 24, 25), (8, 6, 10), (8, 15, 17), (9, 12, 15), (9, 40, 41), (10, 24, 26), (11, 60, 61), (12, 5, 13), (12, 9, 15), (12, 16, 20), (12, 35, 37), (13, 84, 85), (14, 48, 50), (15, 8, 17), (15, 20, 25), (15, 36, 39), (16, 12, 20), (16, 30, 34), (16, 63, 65), (18, 24, 30), (18, 80, 82), (20, 15, 25), (20, 21, 29), (20, 48, 52), (21, 20, 29), (21, 28, 35), (21, 72, 75), (24, 7, 25), (24, 10, 26), (24, 18, 30), (24, 32, 40), (24, 45, 51), (24, 70, 74), (25, 60, 65), (27, 36, 45), (28, 21, 35), (28, 45, 53), (30, 16, 34), (30, 40, 50), (30, 72, 78), (32, 24, 40), (32, 60, 68), (33, 44, 55), (33, 56, 65), (35, 12, 37), (35, 84, 91), (36, 15, 39), (36, 27, 45), (36, 48, 60), (36, 77, 85), (39, 52, 65), (39, 80, 89), (40, 9, 41), (40, 30, 50), (40, 42, 58), (40, 75, 85), (42, 40, 58), (42, 56, 70), (44, 33, 55), (45, 24, 51), (45, 28, 53), (45, 60, 75), (48, 14, 50), (48, 20, 52), (48, 36, 60), (48, 55, 73), (48, 64, 80), (51, 68, 85), (52, 39, 65), (54, 72, 90), (55, 48, 73), (56, 33, 65), (56, 42, 70), (57, 76, 95), (60, 11, 61), (60, 25, 65), (60, 32, 68), (60, 45, 75), (60, 63, 87), (63, 16, 65), (63, 60, 87), (64, 48, 80), (65, 72, 97), (68, 51, 85), (70, 24, 74), (72, 21, 75), (72, 30, 78), (72, 54, 90), (72, 65, 97), (75, 40, 85), (76, 57, 95), (77, 36, 85), (80, 18, 82), (80, 39, 89), (84, 13, 85), (84, 35, 91)]\n",
      "number of triples: 100\n"
     ]
    }
   ],
   "source": [
    "print(triples)\n",
    "print(\"number of triples:\",len(triples))"
   ]
  },
  {
   "cell_type": "markdown",
   "id": "a3eecf17-6f0f-43ce-8afd-3091cd4bdeba",
   "metadata": {},
   "source": [
    "Secondly, the triples are filtered so that only the unique ones are retained. Given (a,b,c) so that a^2 + b^2 = c^2, triples that exchange the position of a and b are equivalent. Hence:"
   ]
  },
  {
   "cell_type": "code",
   "execution_count": 24,
   "id": "a3b7df2f-478e-4af8-a50f-750b5b035745",
   "metadata": {},
   "outputs": [],
   "source": [
    "unique_triples = []\n",
    "triples_dict = {}\n",
    "for i in triples:\n",
    "    equiv_triple = (i[1],i[0],i[2])\n",
    "    rep_triple = [i,equiv_triple]\n",
    "    rep_triple.sort()\n",
    "    if (rep_triple[0] not in triples_dict):\n",
    "        triples_dict[rep_triple[0]] = 0\n",
    "        unique_triples.append(rep_triple[0])"
   ]
  },
  {
   "cell_type": "markdown",
   "id": "25762e4e-1596-4498-915b-b56a139911e0",
   "metadata": {},
   "source": [
    "Printing the filtered triples:"
   ]
  },
  {
   "cell_type": "code",
   "execution_count": 25,
   "id": "04caa439-af08-4deb-94fd-7f8d9048d0dc",
   "metadata": {},
   "outputs": [
    {
     "name": "stdout",
     "output_type": "stream",
     "text": [
      "[(3, 4, 5), (5, 12, 13), (6, 8, 10), (7, 24, 25), (8, 15, 17), (9, 12, 15), (9, 40, 41), (10, 24, 26), (11, 60, 61), (12, 16, 20), (12, 35, 37), (13, 84, 85), (14, 48, 50), (15, 20, 25), (15, 36, 39), (16, 30, 34), (16, 63, 65), (18, 24, 30), (18, 80, 82), (20, 21, 29), (20, 48, 52), (21, 28, 35), (21, 72, 75), (24, 32, 40), (24, 45, 51), (24, 70, 74), (25, 60, 65), (27, 36, 45), (28, 45, 53), (30, 40, 50), (30, 72, 78), (32, 60, 68), (33, 44, 55), (33, 56, 65), (35, 84, 91), (36, 48, 60), (36, 77, 85), (39, 52, 65), (39, 80, 89), (40, 42, 58), (40, 75, 85), (42, 56, 70), (45, 60, 75), (48, 55, 73), (48, 64, 80), (51, 68, 85), (54, 72, 90), (57, 76, 95), (60, 63, 87), (65, 72, 97)]\n",
      "number of unique triples: 50\n"
     ]
    }
   ],
   "source": [
    "print(unique_triples)\n",
    "print(\"number of unique triples:\",len(unique_triples))"
   ]
  },
  {
   "cell_type": "markdown",
   "id": "4e9c52d9-00e0-421f-9e31-3017603253f6",
   "metadata": {},
   "source": [
    "## 9) Normalization\n",
    "Write a function that takes a tuple of numbers and returns it with the entries normalized to one."
   ]
  },
  {
   "cell_type": "code",
   "execution_count": 26,
   "id": "ef05f4b3-e873-458d-85e0-9088645cc6b8",
   "metadata": {},
   "outputs": [],
   "source": [
    "def TupleNorm(in_tuple):\n",
    "    try:\n",
    "        s = sum([x**2 for x in in_tuple])**0.5\n",
    "        norm = [x/s for x in in_tuple]\n",
    "        return tuple(norm)\n",
    "    except:\n",
    "        print(\"TypeError: input must be a valid n-tuple.\")\n",
    "        return 1"
   ]
  },
  {
   "cell_type": "markdown",
   "id": "18b015f6-2fa8-4ff5-9ab6-b9cf4cb9a170",
   "metadata": {},
   "source": [
    "Example:"
   ]
  },
  {
   "cell_type": "code",
   "execution_count": 27,
   "id": "7e30d125-6123-4455-a89c-edbd58312778",
   "metadata": {},
   "outputs": [
    {
     "name": "stdout",
     "output_type": "stream",
     "text": [
      "(0.13483997249264842, 0.26967994498529685, 0.40451991747794525, 0.5393598899705937, 0.674199862463242)\n"
     ]
    }
   ],
   "source": [
    "print(TupleNorm((1,2,3,4,5)))"
   ]
  }
 ],
 "metadata": {
  "kernelspec": {
   "display_name": "Python 3 (ipykernel)",
   "language": "python",
   "name": "python3"
  },
  "language_info": {
   "codemirror_mode": {
    "name": "ipython",
    "version": 3
   },
   "file_extension": ".py",
   "mimetype": "text/x-python",
   "name": "python",
   "nbconvert_exporter": "python",
   "pygments_lexer": "ipython3",
   "version": "3.11.4"
  }
 },
 "nbformat": 4,
 "nbformat_minor": 5
}
