{
 "cells": [
  {
   "cell_type": "markdown",
   "id": "b5746bd0",
   "metadata": {},
   "source": [
    "The following exercises are meant to be solved by gathering the bash commands incrimentally in two scripts, one for ex 1.* the other for ex 2.* "
   ]
  },
  {
   "cell_type": "markdown",
   "id": "4e60de78",
   "metadata": {},
   "source": [
    "### Ex 1"
   ]
  },
  {
   "cell_type": "markdown",
   "id": "6759df36",
   "metadata": {},
   "source": [
    "1\\.a Make a new directory called `students` in your home. Download a csv file with the list of students of this lab from [here](https://www.dropbox.com/s/867rtx3az6e9gm8/LCP_22-23_students.csv) (use the `wget` command) and copy that to `students`. First check whether the file is already there"
   ]
  },
  {
   "cell_type": "markdown",
   "id": "798c0c9d",
   "metadata": {},
   "source": [
    "1\\.b Make two new files, one containing the students belonging to PoD, the other to Physics."
   ]
  },
  {
   "cell_type": "markdown",
   "id": "8a43d622",
   "metadata": {},
   "source": [
    "1\\.c For each letter of the alphabet, count the number of students whose surname starts with that letter. "
   ]
  },
  {
   "cell_type": "markdown",
   "id": "4ba6bc90",
   "metadata": {},
   "source": [
    "1\\.d Find out which is the letter with most counts."
   ]
  },
  {
   "cell_type": "markdown",
   "id": "086a043c",
   "metadata": {},
   "source": [
    "1\\.e Assume an obvious numbering of the students in the file (first line is 1, second line is 2, etc.), group students \"modulo 18\", i.e. 1,19,37,.. 2,20,38,.. etc. and put each group in a separate file  "
   ]
  },
  {
   "cell_type": "markdown",
   "id": "9eb959b8",
   "metadata": {},
   "source": [
    "```bash\n",
    "#!/bin/bash\n",
    "\n",
    "# checking if the folder students and the file exists, so:\n",
    "if [[ ! -d \"students\" ]];\n",
    "then\n",
    "\techo \"creating folder 'students'\"\n",
    "\tmkdir students\n",
    "\techo \"downloading csv file\"\n",
    "\twget \"https://www.dropbox.com/s/867rtx3az6e9gm8/LCP_22-23_students.csv\" -O ./students/student_list.csv\n",
    "elif [[ ! -f \"./students/student_list.csv\" ]];\n",
    "then\n",
    "\techo \"downloading csv file\"\n",
    "\twget \"https://www.dropbox.com/s/867rtx3az6e9gm8/LCP_22-23_students.csv\" -O ./students/student_list.csv\n",
    "else\n",
    "\techo \"folder and file already there.\"\n",
    "fi\n",
    "\n",
    "# making now 2 files: one contains only POD students, the other only Physics students, so:\n",
    "grep \"\\(.*\\)[Pp][Oo][Dd]\\(.*\\)$\" ./students/student_list.csv > ./students/student_list_POD.csv\n",
    "grep \"\\(.*\\)[Pp][Hh][Yy][Ss][Ii][Cc][Ss]\\(.*\\)$\" ./students/student_list.csv > ./students/student_list_PHYSICS.csv\n",
    "\n",
    "# for each letter of the alphabet, count the number of students whose surname starts with that letter\n",
    "if [[ -f \"./students/counts.txt\" ]];\n",
    "then\n",
    "\trm ./students/counts.txt\n",
    "fi\n",
    "for i in {A..Z};\n",
    "do\n",
    "\tcounts=$(sed -n \"2,$ p\" ./students/student_list.csv | grep -c \"^${i}\")\n",
    "\techo \"${counts} ${i}\" >> ./students/counts.txt\n",
    "done\n",
    "\n",
    "# finding out the letters with the max freq\n",
    "h_freq_letter=$(sort -nr ./students/counts.txt | head -1)\n",
    "h_freq=$(echo ${h_freq_letter} | sed -n \"s/ .*$//p\")\n",
    "h_letter=$(echo ${h_freq_letter} | sed -n \"s/^\\(.*\\) //p\")\n",
    "\n",
    "# matching to get the char with this frequency\n",
    "echo \"The letter with the highest frequency is \"$h_letter\" F(\"$h_letter\") = \"$h_freq\n",
    "\n",
    "# students modulo 18\n",
    "N_students=$(grep -c \"\\(\\([Pp][Oo][Dd]\\).*$\\)\\|\\(\\([Pp][Hh][Yy][Ss][Ii][Cc][Ss]\\).*$\\)\" ./students/student_list.csv)\n",
    "i=0\n",
    "while [[ $i -le $N_students ]];\n",
    "do\n",
    "\t# checking if the group file exists and if it does, remove it\n",
    "\tif [[ $i -eq 0 ]];\n",
    "\tthen\n",
    "\t\tfor j in [1..18];\n",
    "\t\tdo\n",
    "\t\t\tif [[ -f \"./students/group_\"${j}\".txt\" ]];\n",
    "\t\t\tthen\n",
    "\t\t\t\trm \"./students/group_\"${j}\".txt\"\n",
    "\t\t\tfi\n",
    "\t\tdone\n",
    "\tfi\n",
    "\t\n",
    "\t# adding stuff to the groups\n",
    "\tgroup_idx=$(($i % 18))\n",
    "\t\n",
    "\tsed -n \"$((i+2))p\" \"./students/student_list.csv\" >> \"./students/group_\"$((group_idx+1))\".txt\"\n",
    "\t\n",
    "\t((i++))\n",
    "done\n",
    "```"
   ]
  },
  {
   "cell_type": "markdown",
   "id": "1d730d21",
   "metadata": {},
   "source": [
    "### Ex 2"
   ]
  },
  {
   "cell_type": "markdown",
   "id": "4b87ecb7",
   "metadata": {},
   "source": [
    "2.a Make a copy of the file `data.csv` removing the metadata and the commas between numbers; call it `data.txt`"
   ]
  },
  {
   "cell_type": "markdown",
   "id": "344048c8",
   "metadata": {},
   "source": [
    "2\\.b How many even numbers are there?"
   ]
  },
  {
   "cell_type": "markdown",
   "id": "2a27138d",
   "metadata": {},
   "source": [
    "2\\.c Distinguish the entries on the basis of `sqrt(X^2 + Y^2 + Z^2)` is greater or smaller than `100*sqrt(3)/2`. Count the entries of each of the two groups "
   ]
  },
  {
   "cell_type": "markdown",
   "id": "e937ef4e",
   "metadata": {},
   "source": [
    "2\\.d Make `n` copies of data.txt (with `n` an input parameter of the script), where the i-th copy has all the numbers divided by i (with `1<=i<=n`)."
   ]
  },
  {
   "cell_type": "markdown",
   "id": "08348a77",
   "metadata": {},
   "source": [
    "```bash\n",
    "#!/bin/bash\n",
    "\n",
    "# removing metadata and commas\n",
    "grep \"^[^#]\" data.csv | sed -n \":x s/\\(, \\)/ /; tx; p\" > data.txt\n",
    "grep \"^[^#]\" data.csv | sed -n \":x s/\\(, \\)/\\n/; tx; p\" > data_col.txt\n",
    "\n",
    "# even number counting\n",
    "N_rows=$(grep -c \".\" ./data_col.txt)\n",
    "i=1\n",
    "N_even=0\n",
    "while [[ $i -le $N_rows ]];\n",
    "do\n",
    "\t# checking\n",
    "\tn=$(sed -n \"${i}p\" ./data_col.txt)\n",
    "\tmod=$(((n % 2)))\n",
    "\tif [[ $mod -eq 0 ]];\n",
    "\tthen\n",
    "\t\t((N_even++))\n",
    "\tfi\n",
    "\t((i++))\n",
    "done\n",
    "echo \"There are \"$N_even\" even numbers.\"\n",
    "\n",
    "# summing the first three coordinates\n",
    "i=1\n",
    "N_greater=0\n",
    "N_less=0\n",
    "while [[ $i -le $N_rows ]];\n",
    "do\n",
    "\t# i increments by 6 each time\n",
    "\tsquared_sum=0\n",
    "\tj=${i}\n",
    "\tjupper=$((j+3))\n",
    "\twhile [[ $j -lt jupper ]];\n",
    "\tdo\n",
    "\t\t# scanning each value\n",
    "\t\tvalue=$(sed -n \"${j}p\" ./data_col.txt)\n",
    "\t\tsquared_sum=$(((squared_sum + value**2)))\n",
    "\t\t((j++))\n",
    "\tdone\n",
    "\t# checking the squared sum using bc command\t\n",
    "\ttest=$(echo \"sqrt(${squared_sum}) < (100*sqrt(3)/2)\" | bc)\n",
    "\tif [[ test -eq 0 ]];\n",
    "\tthen\n",
    "\t\t((N_less++))\n",
    "\telse\n",
    "\t\t((N_greater++))\n",
    "\tfi\n",
    "\ti=$(((i+6)))\n",
    "done\n",
    "echo \"Sum of squares greater than limit: \"${N_greater}\n",
    "echo \"Sum of squares smaller than limit: \"${N_less}\n",
    "\n",
    "# make n copies of data.txt. The i-th copy of data has all numbers divided by i\n",
    "if [[ ! $1 -ge 1 ]];\n",
    "then\n",
    "\techo \"ERROR: first argument must be greater or equal to 1.\"\n",
    "\texit\n",
    "fi\n",
    "\n",
    "i=1\n",
    "while [[ $i -le $1 ]];\n",
    "do\n",
    "\t# for each i, we need to divide every number, so\n",
    "\tif [[ -f \"./data_\"${i}\".txt\" ]];\n",
    "\tthen\n",
    "\t\trm \"./data_\"${i}\".txt\"\n",
    "\tfi\n",
    "\t# proceding\n",
    "\tj=1\n",
    "\twhile [[ $j -le $N_rows ]];\n",
    "\tdo\n",
    "\t\tk=${j}\n",
    "\t\tkupper=$((k+6))\n",
    "\t\tline=\"\"\n",
    "\t\twhile [[ $k -lt $kupper ]];\n",
    "\t\tdo\n",
    "\t\t\t# for each line in the file, must divide\n",
    "\t\t\tvalue=$(sed -n \"${k}p\" ./data_col.txt)\n",
    "\t\t\tdivided=$(echo \"${value} / ${i}\" | bc)\n",
    "\t\t\tline=${line}\" \"${divided}\n",
    "\t\t\t# incrementing k\n",
    "\t\t\t((k++))\n",
    "\t\tdone\n",
    "\t\t# saving the line\n",
    "\t\tline=${line}\n",
    "\t\techo ${line} >> \"./data_\"${i}\".txt\"\n",
    "\t\t# incrementing by 6\n",
    "\t\tj=$(((j+6)))\n",
    "\tdone\n",
    "\techo \"done writing ./data_\"${i}\".txt\"\n",
    "\t((i++))\n",
    "done\n",
    "```"
   ]
  }
 ],
 "metadata": {
  "kernelspec": {
   "display_name": "Python 3 (ipykernel)",
   "language": "python",
   "name": "python3"
  },
  "language_info": {
   "codemirror_mode": {
    "name": "ipython",
    "version": 3
   },
   "file_extension": ".py",
   "mimetype": "text/x-python",
   "name": "python",
   "nbconvert_exporter": "python",
   "pygments_lexer": "ipython3",
   "version": "3.9.13"
  }
 },
 "nbformat": 4,
 "nbformat_minor": 5
}
